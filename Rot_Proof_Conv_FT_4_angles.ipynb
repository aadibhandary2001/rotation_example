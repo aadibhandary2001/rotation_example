{
 "cells": [
  {
   "cell_type": "code",
   "execution_count": 1,
   "id": "690a771e-14b5-4ae9-8da7-93d9dc041914",
   "metadata": {},
   "outputs": [
    {
     "name": "stderr",
     "output_type": "stream",
     "text": [
      "2023-12-23 13:53:31.190953: E external/local_xla/xla/stream_executor/cuda/cuda_dnn.cc:9261] Unable to register cuDNN factory: Attempting to register factory for plugin cuDNN when one has already been registered\n",
      "2023-12-23 13:53:31.191048: E external/local_xla/xla/stream_executor/cuda/cuda_fft.cc:607] Unable to register cuFFT factory: Attempting to register factory for plugin cuFFT when one has already been registered\n",
      "2023-12-23 13:53:31.221323: E external/local_xla/xla/stream_executor/cuda/cuda_blas.cc:1515] Unable to register cuBLAS factory: Attempting to register factory for plugin cuBLAS when one has already been registered\n",
      "2023-12-23 13:53:31.273245: I tensorflow/core/platform/cpu_feature_guard.cc:182] This TensorFlow binary is optimized to use available CPU instructions in performance-critical operations.\n",
      "To enable the following instructions: AVX2 FMA, in other operations, rebuild TensorFlow with the appropriate compiler flags.\n",
      "2023-12-23 13:53:32.312750: W tensorflow/compiler/tf2tensorrt/utils/py_utils.cc:38] TF-TRT Warning: Could not find TensorRT\n"
     ]
    }
   ],
   "source": [
    "import matplotlib.pyplot as plt\n",
    "import numpy as np\n",
    "import pandas as pd\n",
    "import tensorflow as tf\n",
    "\n",
    "from sklearn.metrics import accuracy_score, precision_score, recall_score\n",
    "from sklearn.model_selection import train_test_split\n",
    "from tensorflow.keras import layers, losses\n",
    "from tensorflow.keras.datasets import fashion_mnist\n",
    "from tensorflow.keras.models import Model\n",
    "from sklearn.cluster import OPTICS"
   ]
  },
  {
   "cell_type": "code",
   "execution_count": 2,
   "id": "d66fcba3-3cb9-4cdf-b3b8-174c1fef93a7",
   "metadata": {},
   "outputs": [
    {
     "name": "stdout",
     "output_type": "stream",
     "text": [
      "(30000, 28, 28)\n",
      "(10000, 28, 28)\n"
     ]
    }
   ],
   "source": [
    "(x_train, _), (x_test, _) = fashion_mnist.load_data()\n",
    "#https://stackoverflow.com/questions/53171057/numpy-matrix-rotation-for-any-degrees\n",
    "angles=4\n",
    "train_limit=30000\n",
    "x_train = (x_train.astype('float32') / 255.)[:train_limit]\n",
    "x_test = x_test.astype('float32') / 255.\n",
    "\n",
    "print (x_train.shape)\n",
    "print (x_test.shape)"
   ]
  },
  {
   "cell_type": "code",
   "execution_count": 3,
   "id": "5dd4a2c8-8fe0-4f00-8203-05c08d12f09f",
   "metadata": {},
   "outputs": [],
   "source": [
    "# Create an empty array to store the rotated matrices\n",
    "rotated_train = np.empty_like(np.repeat(x_train,angles,axis=0))\n",
    "static_train = np.empty_like(np.repeat(x_train,angles,axis=0))\n",
    "\n",
    "for i in range(rotated_train.shape[0]):\n",
    "    rotated_matrix = np.rot90(x_train[int(i//angles)], k=i%angles)  # k=1 for a 90-degree rotation\n",
    "    rotated_train[i] = rotated_matrix\n",
    "    static_train[i] = x_train[int(i//angles)]\n",
    "\n",
    "        \n",
    "# Create an empty array to store the rotated matrices\n",
    "rotated_test = np.empty_like(np.repeat(x_test,angles,axis=0))\n",
    "static_test = np.empty_like(np.repeat(x_test,angles,axis=0))\n",
    "\n",
    "for i in range(rotated_test.shape[0]):\n",
    "    rotated_matrix = np.rot90(x_test[int(i//angles)], k=i%angles)  # k=1 for a 90-degree rotation\n",
    "    rotated_test[i] = rotated_matrix\n",
    "    static_test[i] = x_test[int(i//angles)]\n"
   ]
  },
  {
   "cell_type": "code",
   "execution_count": 4,
   "id": "22025276-2c3e-4384-ade7-0ae754e601ba",
   "metadata": {},
   "outputs": [
    {
     "data": {
      "image/png": "[encoded data removed]",
      "text/plain": [
       "<Figure size 640x480 with 1 Axes>"
      ]
     },
     "metadata": {},
     "output_type": "display_data"
    }
   ],
   "source": [
    "ax = plt.subplot()\n",
    "plt.imshow(static_train[0])\n",
    "plt.title(\"original\")\n",
    "plt.gray()\n",
    "ax.get_xaxis().set_visible(False)\n",
    "ax.get_yaxis().set_visible(False)\n",
    "\n"
   ]
  },
  {
   "cell_type": "code",
   "execution_count": 5,
   "id": "477be9e7-2d94-40ac-8aa6-8acbc3e66522",
   "metadata": {},
   "outputs": [
    {
     "data": {
      "image/png": "[encoded data removed]",
      "text/plain": [
       "<Figure size 640x480 with 1 Axes>"
      ]
     },
     "metadata": {},
     "output_type": "display_data"
    }
   ],
   "source": [
    "ax = plt.subplot()\n",
    "plt.imshow(rotated_train[0])\n",
    "plt.title(\"rotated\")\n",
    "plt.gray()\n",
    "ax.get_xaxis().set_visible(False)\n",
    "ax.get_yaxis().set_visible(False)"
   ]
  },
  {
   "cell_type": "code",
   "execution_count": 6,
   "id": "7e0123a7-73ce-490f-ad75-f00bfb3e6207",
   "metadata": {},
   "outputs": [
    {
     "name": "stdout",
     "output_type": "stream",
     "text": [
      "(120000, 28, 28, 3)\n"
     ]
    }
   ],
   "source": [
    "train_transform = np.empty((static_train.shape[0], static_train.shape[1], static_train.shape[2], 3), dtype=float)\n",
    "for i, matrix in enumerate(static_train):\n",
    "    # Perform a 2D FFT on the matrix\n",
    "    fft_result = np.fft.fft2(matrix)\n",
    "    \n",
    "    # Split the FFT result into real and imaginary parts\n",
    "    magnitude = np.abs(fft_result)\n",
    "    phase = np.angle(fft_result)\n",
    "    \n",
    "    # Store the real and imaginary parts in the result_array\n",
    "    train_transform[i, :, :, 0] = matrix\n",
    "    train_transform[i, :, :, 1] = magnitude\n",
    "    train_transform[i, :, :, 2] = phase\n",
    "print(train_transform.shape)"
   ]
  },
  {
   "cell_type": "code",
   "execution_count": 7,
   "id": "60de8fae-35ec-4999-b59c-bce92e3b2ccd",
   "metadata": {},
   "outputs": [
    {
     "name": "stdout",
     "output_type": "stream",
     "text": [
      "(120000, 28, 28, 3)\n"
     ]
    }
   ],
   "source": [
    "rot_train_transform = np.empty((rotated_train.shape[0], rotated_train.shape[1],rotated_train.shape[2], 3), dtype=float)\n",
    "for i, matrix in enumerate(rotated_train):\n",
    "    # Perform a 2D FFT on the matrix\n",
    "    fft_result = np.fft.fft2(matrix)\n",
    "    \n",
    "    # Split the FFT result into real and imaginary parts\n",
    "    magnitude = np.abs(fft_result)\n",
    "    phase = np.angle(fft_result)\n",
    "    \n",
    "    # Store the real and imaginary parts in the result_array\n",
    "    rot_train_transform[i, :, :, 0] = matrix\n",
    "    rot_train_transform[i, :, :, 1] = magnitude\n",
    "    rot_train_transform[i, :, :, 2] = phase\n",
    "print(rot_train_transform.shape)"
   ]
  },
  {
   "cell_type": "code",
   "execution_count": 8,
   "id": "ca1f31eb-93d6-4920-a080-d80f3376a251",
   "metadata": {},
   "outputs": [
    {
     "name": "stdout",
     "output_type": "stream",
     "text": [
      "(40000, 28, 28, 3)\n"
     ]
    }
   ],
   "source": [
    "test_transform = np.empty((static_test.shape[0], static_test.shape[1],static_test.shape[2], 3), dtype=float)\n",
    "for i, matrix in enumerate(static_test):\n",
    "    # Perform a 2D FFT on the matrix\n",
    "    fft_result = np.fft.fft2(matrix)\n",
    "    \n",
    "    # Split the FFT result into real and imaginary parts\n",
    "    magnitude = np.abs(fft_result)\n",
    "    phase = np.angle(fft_result)\n",
    "    \n",
    "    # Store the real and imaginary parts in the result_array\n",
    "    test_transform[i, :, :, 0] = matrix\n",
    "    test_transform[i, :, :, 1] = magnitude\n",
    "    test_transform[i, :, :, 2] = phase\n",
    "print(test_transform.shape)"
   ]
  },
  {
   "cell_type": "code",
   "execution_count": 9,
   "id": "6c650f38-38df-40c6-9e56-b84139add291",
   "metadata": {},
   "outputs": [
    {
     "name": "stdout",
     "output_type": "stream",
     "text": [
      "(40000, 28, 28, 3)\n"
     ]
    }
   ],
   "source": [
    "rot_test_transform = np.empty((rotated_test.shape[0], rotated_test.shape[1],rotated_test.shape[2], 3), dtype=float)\n",
    "for i, matrix in enumerate(rotated_test):\n",
    "    # Perform a 2D FFT on the matrix\n",
    "    fft_result = np.fft.fft2(matrix)\n",
    "    \n",
    "    # Split the FFT result into real and imaginary parts\n",
    "    magnitude = np.abs(fft_result)\n",
    "    phase = np.angle(fft_result)\n",
    "    \n",
    "    # Store the real and imaginary parts in the result_array\n",
    "    rot_test_transform[i, :, :, 0] = matrix\n",
    "    rot_test_transform[i, :, :, 1] = magnitude\n",
    "    rot_test_transform[i, :, :, 2] = phase\n",
    "print(rot_test_transform.shape)"
   ]
  },
  {
   "cell_type": "code",
   "execution_count": 10,
   "id": "b8034250-17ec-4738-952b-dd330c796ab1",
   "metadata": {},
   "outputs": [
    {
     "name": "stdout",
     "output_type": "stream",
     "text": [
      "(28, 28, 3)\n"
     ]
    },
    {
     "name": "stderr",
     "output_type": "stream",
     "text": [
      "2023-12-23 13:53:57.896058: I external/local_xla/xla/stream_executor/cuda/cuda_executor.cc:901] successful NUMA node read from SysFS had negative value (-1), but there must be at least one NUMA node, so returning NUMA node zero. See more at https://github.com/torvalds/linux/blob/v6.0/Documentation/ABI/testing/sysfs-bus-pci#L344-L355\n",
      "2023-12-23 13:53:58.009203: I external/local_xla/xla/stream_executor/cuda/cuda_executor.cc:901] successful NUMA node read from SysFS had negative value (-1), but there must be at least one NUMA node, so returning NUMA node zero. See more at https://github.com/torvalds/linux/blob/v6.0/Documentation/ABI/testing/sysfs-bus-pci#L344-L355\n",
      "2023-12-23 13:53:58.009543: I external/local_xla/xla/stream_executor/cuda/cuda_executor.cc:901] successful NUMA node read from SysFS had negative value (-1), but there must be at least one NUMA node, so returning NUMA node zero. See more at https://github.com/torvalds/linux/blob/v6.0/Documentation/ABI/testing/sysfs-bus-pci#L344-L355\n",
      "2023-12-23 13:53:58.012191: I external/local_xla/xla/stream_executor/cuda/cuda_executor.cc:901] successful NUMA node read from SysFS had negative value (-1), but there must be at least one NUMA node, so returning NUMA node zero. See more at https://github.com/torvalds/linux/blob/v6.0/Documentation/ABI/testing/sysfs-bus-pci#L344-L355\n",
      "2023-12-23 13:53:58.012462: I external/local_xla/xla/stream_executor/cuda/cuda_executor.cc:901] successful NUMA node read from SysFS had negative value (-1), but there must be at least one NUMA node, so returning NUMA node zero. See more at https://github.com/torvalds/linux/blob/v6.0/Documentation/ABI/testing/sysfs-bus-pci#L344-L355\n",
      "2023-12-23 13:53:58.012710: I external/local_xla/xla/stream_executor/cuda/cuda_executor.cc:901] successful NUMA node read from SysFS had negative value (-1), but there must be at least one NUMA node, so returning NUMA node zero. See more at https://github.com/torvalds/linux/blob/v6.0/Documentation/ABI/testing/sysfs-bus-pci#L344-L355\n",
      "2023-12-23 13:53:59.768363: I external/local_xla/xla/stream_executor/cuda/cuda_executor.cc:901] successful NUMA node read from SysFS had negative value (-1), but there must be at least one NUMA node, so returning NUMA node zero. See more at https://github.com/torvalds/linux/blob/v6.0/Documentation/ABI/testing/sysfs-bus-pci#L344-L355\n",
      "2023-12-23 13:53:59.768640: I external/local_xla/xla/stream_executor/cuda/cuda_executor.cc:901] successful NUMA node read from SysFS had negative value (-1), but there must be at least one NUMA node, so returning NUMA node zero. See more at https://github.com/torvalds/linux/blob/v6.0/Documentation/ABI/testing/sysfs-bus-pci#L344-L355\n",
      "2023-12-23 13:53:59.768890: I external/local_xla/xla/stream_executor/cuda/cuda_executor.cc:901] successful NUMA node read from SysFS had negative value (-1), but there must be at least one NUMA node, so returning NUMA node zero. See more at https://github.com/torvalds/linux/blob/v6.0/Documentation/ABI/testing/sysfs-bus-pci#L344-L355\n",
      "2023-12-23 13:53:59.769078: I tensorflow/core/common_runtime/gpu/gpu_device.cc:1929] Created device /job:localhost/replica:0/task:0/device:GPU:0 with 6919 MB memory:  -> device: 0, name: NVIDIA GeForce GTX 1070, pci bus id: 0000:28:00.0, compute capability: 6.1\n"
     ]
    }
   ],
   "source": [
    "class Autoencoder(Model):\n",
    "    def __init__(self, latent_dim, shape):\n",
    "        super(Autoencoder, self).__init__()\n",
    "        self.latent_dim = latent_dim\n",
    "        self.shape = shape\n",
    "        self.encoder = tf.keras.Sequential([\n",
    "          layers.Input(shape=(28, 28, 3)),\n",
    "          layers.Conv2D(32, (3, 3), activation='relu', padding='same', strides=2),\n",
    "          layers.Conv2D(32, (3, 3), activation='relu', padding='same', strides=2),\n",
    "          layers.Flatten(),\n",
    "          layers.Dense(32, activation='relu'),\n",
    "          layers.Dense(16, activation='relu'),\n",
    "          layers.Dense(8, activation='relu'),\n",
    "        ])\n",
    "        self.decoder = tf.keras.Sequential([\n",
    "          layers.Dense(16, activation='relu'),\n",
    "          layers.Dense(32, activation='relu'),\n",
    "          layers.Dense(tf.math.reduce_prod(shape), activation='sigmoid'),\n",
    "          layers.Reshape(shape)\n",
    "        ])\n",
    "\n",
    "    def call(self, x):\n",
    "        encoded = self.encoder(x)\n",
    "        decoded = self.decoder(encoded)\n",
    "        return decoded\n",
    "    \n",
    "    def reduced(self,x):\n",
    "        return self.encoder(x)\n",
    "    \n",
    "shape = train_transform.shape[1:]\n",
    "print(shape)\n",
    "latent_dim = 64\n",
    "autoencoder = Autoencoder(latent_dim, shape)"
   ]
  },
  {
   "cell_type": "code",
   "execution_count": 11,
   "id": "fd44871f-626a-44c2-9a16-77aac3dfe875",
   "metadata": {},
   "outputs": [],
   "source": [
    "autoencoder.compile(optimizer='adam', loss=losses.MeanSquaredLogarithmicError(),metrics=['accuracy'])"
   ]
  },
  {
   "cell_type": "code",
   "execution_count": 12,
   "id": "b8e27800-35e0-4921-82b2-f0f8f8bdd2c6",
   "metadata": {},
   "outputs": [
    {
     "name": "stderr",
     "output_type": "stream",
     "text": [
      "2023-12-23 13:54:01.762595: W external/local_tsl/tsl/framework/cpu_allocator_impl.cc:83] Allocation of 1128960000 exceeds 10% of free system memory.\n",
      "2023-12-23 13:54:04.487632: W external/local_tsl/tsl/framework/cpu_allocator_impl.cc:83] Allocation of 1128960000 exceeds 10% of free system memory.\n",
      "2023-12-23 13:54:06.572552: W external/local_tsl/tsl/framework/cpu_allocator_impl.cc:83] Allocation of 1128960000 exceeds 10% of free system memory.\n",
      "2023-12-23 13:54:07.286346: W external/local_tsl/tsl/framework/cpu_allocator_impl.cc:83] Allocation of 1128960000 exceeds 10% of free system memory.\n"
     ]
    },
    {
     "name": "stdout",
     "output_type": "stream",
     "text": [
      "Epoch 1/10\n"
     ]
    },
    {
     "name": "stderr",
     "output_type": "stream",
     "text": [
      "2023-12-23 13:54:11.803613: I external/local_xla/xla/stream_executor/cuda/cuda_dnn.cc:454] Loaded cuDNN version 8904\n",
      "2023-12-23 13:54:14.825835: I external/local_xla/xla/service/service.cc:168] XLA service 0x7fa8c7fafe60 initialized for platform CUDA (this does not guarantee that XLA will be used). Devices:\n",
      "2023-12-23 13:54:14.825873: I external/local_xla/xla/service/service.cc:176]   StreamExecutor device (0): NVIDIA GeForce GTX 1070, Compute Capability 6.1\n",
      "2023-12-23 13:54:14.843865: I tensorflow/compiler/mlir/tensorflow/utils/dump_mlir_util.cc:269] disabling MLIR crash reproducer, set env var `MLIR_CRASH_REPRODUCER_DIRECTORY` to enable.\n",
      "WARNING: All log messages before absl::InitializeLog() is called are written to STDERR\n",
      "I0000 00:00:1703361255.028395    4876 device_compiler.h:186] Compiled cluster using XLA!  This line is logged at most once for the lifetime of the process.\n"
     ]
    },
    {
     "name": "stdout",
     "output_type": "stream",
     "text": [
      "3745/3750 [============================>.] - ETA: 0s - loss: 0.3753 - accuracy: 0.7818"
     ]
    },
    {
     "name": "stderr",
     "output_type": "stream",
     "text": [
      "2023-12-23 13:54:47.168740: W external/local_tsl/tsl/framework/cpu_allocator_impl.cc:83] Allocation of 376320000 exceeds 10% of free system memory.\n"
     ]
    },
    {
     "name": "stdout",
     "output_type": "stream",
     "text": [
      "3750/3750 [==============================] - 45s 10ms/step - loss: 0.3753 - accuracy: 0.7818 - val_loss: 0.3720 - val_accuracy: 0.7839\n",
      "Epoch 2/10\n",
      "3750/3750 [==============================] - 32s 8ms/step - loss: 0.3708 - accuracy: 0.7842 - val_loss: 0.3704 - val_accuracy: 0.7845\n",
      "Epoch 3/10\n",
      "3750/3750 [==============================] - 32s 8ms/step - loss: 0.3696 - accuracy: 0.7843 - val_loss: 0.3696 - val_accuracy: 0.7849\n",
      "Epoch 4/10\n",
      "3750/3750 [==============================] - 32s 9ms/step - loss: 0.3688 - accuracy: 0.7850 - val_loss: 0.3691 - val_accuracy: 0.7856\n",
      "Epoch 5/10\n",
      "3750/3750 [==============================] - 31s 8ms/step - loss: 0.3683 - accuracy: 0.7858 - val_loss: 0.3686 - val_accuracy: 0.7860\n",
      "Epoch 6/10\n",
      "3750/3750 [==============================] - 32s 8ms/step - loss: 0.3680 - accuracy: 0.7862 - val_loss: 0.3684 - val_accuracy: 0.7865\n",
      "Epoch 7/10\n",
      "3750/3750 [==============================] - 32s 8ms/step - loss: 0.3678 - accuracy: 0.7864 - val_loss: 0.3683 - val_accuracy: 0.7868\n",
      "Epoch 8/10\n",
      "3750/3750 [==============================] - 32s 8ms/step - loss: 0.3676 - accuracy: 0.7866 - val_loss: 0.3682 - val_accuracy: 0.7865\n",
      "Epoch 9/10\n",
      "3750/3750 [==============================] - 31s 8ms/step - loss: 0.3675 - accuracy: 0.7866 - val_loss: 0.3681 - val_accuracy: 0.7869\n",
      "Epoch 10/10\n",
      "3750/3750 [==============================] - 31s 8ms/step - loss: 0.3674 - accuracy: 0.7867 - val_loss: 0.3680 - val_accuracy: 0.7869\n"
     ]
    },
    {
     "data": {
      "text/plain": [
       "<keras.src.callbacks.History at 0x7faf0c88b7f0>"
      ]
     },
     "execution_count": 12,
     "metadata": {},
     "output_type": "execute_result"
    }
   ],
   "source": [
    "autoencoder.fit(rot_train_transform, train_transform,\n",
    "                epochs=10,\n",
    "                shuffle=True,\n",
    "                validation_data=(rot_test_transform, test_transform))"
   ]
  },
  {
   "cell_type": "code",
   "execution_count": 13,
   "id": "d0af5d85-8600-465d-b734-cd4d098c13b8",
   "metadata": {},
   "outputs": [
    {
     "name": "stdout",
     "output_type": "stream",
     "text": [
      "(12, 28, 28, 3)\n"
     ]
    }
   ],
   "source": [
    "encoded_imgs = autoencoder.encoder(rot_test_transform[:12]).numpy()\n",
    "decoded_imgs = autoencoder.decoder(encoded_imgs).numpy()\n",
    "print(decoded_imgs.shape)"
   ]
  },
  {
   "cell_type": "code",
   "execution_count": 14,
   "id": "a65b2763-13da-46db-9062-ea1d259438da",
   "metadata": {},
   "outputs": [],
   "source": [
    "first_image = decoded_imgs[..., 0]"
   ]
  },
  {
   "cell_type": "code",
   "execution_count": 15,
   "id": "23cb5faf-c14d-4860-9199-256003d9dbaf",
   "metadata": {},
   "outputs": [
    {
     "data": {
      "image/png": "[encoded data removed]",
      "text/plain": [
       "<Figure size 2000x1000 with 24 Axes>"
      ]
     },
     "metadata": {},
     "output_type": "display_data"
    }
   ],
   "source": [
    "n = 12\n",
    "plt.figure(figsize=(20, 10))\n",
    "for i in range(n):\n",
    "\n",
    "    # display original + noise\n",
    "    ax = plt.subplot(2, n, i + 1)\n",
    "    plt.title(\"Rotated\")\n",
    "    plt.imshow(tf.squeeze(rotated_test[i]))\n",
    "    plt.gray()\n",
    "    ax.get_xaxis().set_visible(False)\n",
    "    ax.get_yaxis().set_visible(False)\n",
    "\n",
    "    # display reconstruction\n",
    "    bx = plt.subplot(2, n, i + n + 1)\n",
    "    plt.title(\"reconstructed\")\n",
    "    plt.imshow(tf.squeeze(first_image[i]))\n",
    "    plt.gray()\n",
    "    bx.get_xaxis().set_visible(False)\n",
    "    bx.get_yaxis().set_visible(False)\n",
    "plt.show()"
   ]
  },
  {
   "cell_type": "code",
   "execution_count": null,
   "id": "7b94c768-7f02-45eb-a8c8-0721085b0871",
   "metadata": {},
   "outputs": [],
   "source": []
  }
 ],
 "metadata": {
  "kernelspec": {
   "display_name": "Python [conda env:MOR]",
   "language": "python",
   "name": "conda-env-MOR-py"
  },
  "language_info": {
   "codemirror_mode": {
    "name": "ipython",
    "version": 3
   },
   "file_extension": ".py",
   "mimetype": "text/x-python",
   "name": "python",
   "nbconvert_exporter": "python",
   "pygments_lexer": "ipython3",
   "version": "3.10.9"
  }
 },
 "nbformat": 4,
 "nbformat_minor": 5
}
